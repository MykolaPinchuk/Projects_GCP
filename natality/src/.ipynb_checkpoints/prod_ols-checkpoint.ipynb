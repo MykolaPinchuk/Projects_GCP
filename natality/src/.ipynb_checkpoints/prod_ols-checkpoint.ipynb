{
 "cells": [
  {
   "cell_type": "markdown",
   "id": "3c7d5afd-9c32-4d87-8d27-36d32fb621d7",
   "metadata": {},
   "source": [
    "# This Prod notebook builds and deploys simple OLS model to predict baby weight\n",
    "\n",
    "## Outline:\n",
    "1. Ingest data using BigQuery API.\n",
    "2. Clean the data.\n",
    "3. Build model.\n",
    "4. Deploy it"
   ]
  },
  {
   "cell_type": "code",
   "execution_count": 1,
   "id": "565ff780-1543-498f-bfa3-6502023895b9",
   "metadata": {},
   "outputs": [],
   "source": [
    "notebook_run_id = 1\n",
    "# notebook_run_id is a digit, creating and deploying a new model every time this notebook is run. increment it by 1.\n",
    "project_name = 'My First Project'\n",
    "project_id = 'quantum-keep-360100'\n",
    "regionn = 'us-central1'\n",
    "\n",
    "ml_project_name = 'natality'\n",
    "model_name = 'OLS'"
   ]
  },
  {
   "cell_type": "code",
   "execution_count": 2,
   "id": "ba837361-1987-40b4-8676-d5aae33eac30",
   "metadata": {},
   "outputs": [],
   "source": [
    "import pandas as pd\n",
    "import xgboost as xgb\n",
    "import numpy as np\n",
    "import time\n",
    "import pickle\n",
    "import os\n",
    "\n",
    "from sklearn.linear_model import LinearRegression\n",
    "from sklearn.model_selection import train_test_split\n",
    "from sklearn.metrics import mean_squared_error\n",
    "from sklearn.utils import shuffle\n",
    "from google.cloud import bigquery, storage\n",
    "\n",
    "# xgb.__version__\n",
    "os.chdir('/home/jupyter/projects_gcp')\n",
    "time0 = time.time()"
   ]
  },
  {
   "cell_type": "code",
   "execution_count": 3,
   "id": "68df42cc-a4b5-45b2-90a8-fee9afcaabe6",
   "metadata": {},
   "outputs": [
    {
     "data": {
      "text/plain": [
       "(10000, 5)"
      ]
     },
     "metadata": {},
     "output_type": "display_data"
    },
    {
     "data": {
      "text/html": [
       "<div>\n",
       "<style scoped>\n",
       "    .dataframe tbody tr th:only-of-type {\n",
       "        vertical-align: middle;\n",
       "    }\n",
       "\n",
       "    .dataframe tbody tr th {\n",
       "        vertical-align: top;\n",
       "    }\n",
       "\n",
       "    .dataframe thead th {\n",
       "        text-align: right;\n",
       "    }\n",
       "</style>\n",
       "<table border=\"1\" class=\"dataframe\">\n",
       "  <thead>\n",
       "    <tr style=\"text-align: right;\">\n",
       "      <th></th>\n",
       "      <th>weight_pounds</th>\n",
       "      <th>is_male</th>\n",
       "      <th>mother_age</th>\n",
       "      <th>plurality</th>\n",
       "      <th>gestation_weeks</th>\n",
       "    </tr>\n",
       "  </thead>\n",
       "  <tbody>\n",
       "    <tr>\n",
       "      <th>0</th>\n",
       "      <td>9.312326</td>\n",
       "      <td>False</td>\n",
       "      <td>28</td>\n",
       "      <td>1</td>\n",
       "      <td>40.0</td>\n",
       "    </tr>\n",
       "    <tr>\n",
       "      <th>1</th>\n",
       "      <td>7.749249</td>\n",
       "      <td>True</td>\n",
       "      <td>30</td>\n",
       "      <td>1</td>\n",
       "      <td>40.0</td>\n",
       "    </tr>\n",
       "    <tr>\n",
       "      <th>2</th>\n",
       "      <td>7.394304</td>\n",
       "      <td>True</td>\n",
       "      <td>27</td>\n",
       "      <td>1</td>\n",
       "      <td>39.0</td>\n",
       "    </tr>\n",
       "    <tr>\n",
       "      <th>3</th>\n",
       "      <td>6.750554</td>\n",
       "      <td>False</td>\n",
       "      <td>40</td>\n",
       "      <td>1</td>\n",
       "      <td>41.0</td>\n",
       "    </tr>\n",
       "    <tr>\n",
       "      <th>4</th>\n",
       "      <td>8.377566</td>\n",
       "      <td>True</td>\n",
       "      <td>24</td>\n",
       "      <td>1</td>\n",
       "      <td>38.0</td>\n",
       "    </tr>\n",
       "  </tbody>\n",
       "</table>\n",
       "</div>"
      ],
      "text/plain": [
       "   weight_pounds  is_male  mother_age  plurality  gestation_weeks\n",
       "0       9.312326    False          28          1             40.0\n",
       "1       7.749249     True          30          1             40.0\n",
       "2       7.394304     True          27          1             39.0\n",
       "3       6.750554    False          40          1             41.0\n",
       "4       8.377566     True          24          1             38.0"
      ]
     },
     "metadata": {},
     "output_type": "display_data"
    }
   ],
   "source": [
    "query=\"\"\"\n",
    "SELECT\n",
    "  weight_pounds,\n",
    "  is_male,\n",
    "  mother_age,\n",
    "  plurality,\n",
    "  gestation_weeks\n",
    "FROM\n",
    "  publicdata.samples.natality\n",
    "WHERE year > 2000\n",
    "LIMIT 10000\n",
    "\"\"\"\n",
    "df = bigquery.Client().query(query).to_dataframe()\n",
    "display(df.shape, df.head())"
   ]
  },
  {
   "cell_type": "code",
   "execution_count": 4,
   "id": "18ea2aff-c864-4374-921e-fb983ab5a5b8",
   "metadata": {},
   "outputs": [],
   "source": [
    "df['is_male'] = df['is_male'].astype(int)\n",
    "df = df.dropna()\n",
    "df = shuffle(df, random_state=2)\n",
    "\n",
    "labels = df['weight_pounds']\n",
    "data = df.drop(columns=['weight_pounds'])\n",
    "x,y = data,labels\n",
    "x_train,x_test,y_train,y_test = train_test_split(x,y)"
   ]
  },
  {
   "cell_type": "code",
   "execution_count": 5,
   "id": "bb7ef28f-22ec-4d5e-b188-ccba37f39d1b",
   "metadata": {},
   "outputs": [
    {
     "name": "stdout",
     "output_type": "stream",
     "text": [
      "0.004226207733154297\n"
     ]
    }
   ],
   "source": [
    "time1 = time.time()\n",
    "model = LinearRegression()\n",
    "\n",
    "model.fit(x_train, y_train)\n",
    "model_copied = model\n",
    "\n",
    "print(time.time()-time1)"
   ]
  },
  {
   "cell_type": "code",
   "execution_count": 6,
   "id": "725a9b8f-ab32-4bc0-af3e-ef598ac1a1b2",
   "metadata": {},
   "outputs": [
    {
     "name": "stdout",
     "output_type": "stream",
     "text": [
      "Predicted weight:  6.249361\n",
      "Actual weight:  7.43839671988\n",
      "\n",
      "Predicted weight:  7.660574\n",
      "Actual weight:  8.062304921339999\n",
      "\n",
      "train rmse:  1.0566742247561989\n",
      "test rmse:  1.058265231151202\n",
      "model training time:  2.410808563232422\n"
     ]
    }
   ],
   "source": [
    "y_pred = model.predict(x_test)\n",
    "\n",
    "for i in range(2):\n",
    "    print('Predicted weight: ', y_pred[i])\n",
    "    print('Actual weight: ', y_test.iloc[i])\n",
    "    print()\n",
    "    \n",
    "print('train rmse: ', np.sqrt(mean_squared_error(y_train, model.predict(x_train))))\n",
    "print('test rmse: ', np.sqrt(mean_squared_error(y_test, model.predict(x_test))))\n",
    "print('model training time: ', time.time() - time0)"
   ]
  },
  {
   "cell_type": "markdown",
   "id": "175ea173-eae6-4503-84cc-e24e984ee1c2",
   "metadata": {},
   "source": [
    "### 4. Model Deployment\n",
    "\n",
    "I based the code below on https://supertype.ai/notes/deploying-machine-learning-models-with-vertex-ai-on-google-cloud-platform/"
   ]
  },
  {
   "cell_type": "code",
   "execution_count": 7,
   "id": "c70ff7e1-a243-4871-9896-7670c02e1784",
   "metadata": {},
   "outputs": [],
   "source": [
    "deployment_time_start = time.time()\n",
    "\n",
    "model_path = os.getcwd()+'/natality/artifacts/model_ols/'\n",
    "\n",
    "# Save model artifact to local filesystem (doesn't persist)\n",
    "artifact_filename = 'model.pkl'\n",
    "with open(model_path+artifact_filename, 'wb') as model_file:\n",
    "  pickle.dump(model, model_file)"
   ]
  },
  {
   "cell_type": "code",
   "execution_count": 8,
   "id": "200ab3b5-1d9e-4243-9776-eae58c1add99",
   "metadata": {},
   "outputs": [],
   "source": [
    "# Upload model artifact to Cloud Storage\n",
    "# Change the model directory to your GCS bucket URI\n",
    "model_bucket = 'gs://pmykola-projectsgcp-artifacts/natality-ols'\n",
    "storage_path = os.path.join(model_bucket, artifact_filename)\n",
    "blob = storage.blob.Blob.from_string(storage_path, client=storage.Client(project=project_id))\n",
    "# previously it was 'project_id'\n",
    "blob.upload_from_filename(model_path+artifact_filename)"
   ]
  },
  {
   "cell_type": "code",
   "execution_count": 9,
   "id": "dbd22fb6-307f-4bae-babb-760226b07061",
   "metadata": {},
   "outputs": [
    {
     "name": "stdout",
     "output_type": "stream",
     "text": [
      "Creating Model\n",
      "Create Model backing LRO: projects/234443118908/locations/us-central1/models/8830498940064366592/operations/8526863650093268992\n",
      "Model created. Resource name: projects/234443118908/locations/us-central1/models/8830498940064366592@1\n",
      "To use this Model in another session:\n",
      "model = aiplatform.Model('projects/234443118908/locations/us-central1/models/8830498940064366592@1')\n"
     ]
    }
   ],
   "source": [
    "from google.cloud import aiplatform\n",
    "\n",
    "# Use this line so we do not need to explicitly specify the project number and region whenever we use AI Platform (Vertex AI) services\n",
    "aiplatform.init(project=project_id, location=regionn)\n",
    "\n",
    "# Importing model artifacts\n",
    "model = aiplatform.Model.upload(display_name = ml_project_name+model_name+str(notebook_run_id),\n",
    "    description = ml_project_name+model_name+str(notebook_run_id),\n",
    "    artifact_uri = model_bucket,\n",
    "    serving_container_image_uri = 'us-docker.pkg.dev/vertex-ai/prediction/sklearn-cpu.1-0:latest'\n",
    ")"
   ]
  },
  {
   "cell_type": "code",
   "execution_count": 10,
   "id": "abea396b-931f-439f-85c0-459c50cb16ac",
   "metadata": {},
   "outputs": [
    {
     "name": "stdout",
     "output_type": "stream",
     "text": [
      "Creating Endpoint\n",
      "Create Endpoint backing LRO: projects/234443118908/locations/us-central1/endpoints/3851567241866772480/operations/1904601873021665280\n",
      "Endpoint created. Resource name: projects/234443118908/locations/us-central1/endpoints/3851567241866772480\n",
      "To use this Endpoint in another session:\n",
      "endpoint = aiplatform.Endpoint('projects/234443118908/locations/us-central1/endpoints/3851567241866772480')\n"
     ]
    }
   ],
   "source": [
    "# optional code to create an endpoint\n",
    "endpoint = aiplatform.Endpoint.create(display_name = ml_project_name+model_name+str(notebook_run_id), \n",
    "                                      project = project_id, \n",
    "                                      location = regionn)\n",
    "endpoint_id = endpoint.resource_name[-19:0]"
   ]
  },
  {
   "cell_type": "code",
   "execution_count": 11,
   "id": "6b059509-42e6-48b0-b7e2-51b80ec2cac3",
   "metadata": {},
   "outputs": [
    {
     "name": "stdout",
     "output_type": "stream",
     "text": [
      "Deploying model to Endpoint : projects/234443118908/locations/us-central1/endpoints/3851567241866772480\n",
      "Deploy Endpoint model backing LRO: projects/234443118908/locations/us-central1/endpoints/3851567241866772480/operations/7092467168775766016\n",
      "Endpoint model deployed. Resource name: projects/234443118908/locations/us-central1/endpoints/3851567241866772480\n"
     ]
    },
    {
     "data": {
      "text/plain": [
       "<google.cloud.aiplatform.models.Endpoint object at 0x7fdd93e92450> \n",
       "resource name: projects/234443118908/locations/us-central1/endpoints/3851567241866772480"
      ]
     },
     "execution_count": 11,
     "metadata": {},
     "output_type": "execute_result"
    }
   ],
   "source": [
    "# if you do not specify the endpoint parameter, a new endpoint will be created\n",
    "# this step is low. On a weak machine it runs for 3-6 minutes.\n",
    "# if the VM runs more jobs or the model is complex, it may be even longer.\n",
    "model.deploy(endpoint = endpoint,\n",
    "             machine_type = 'n1-standard-2')"
   ]
  },
  {
   "cell_type": "code",
   "execution_count": 12,
   "id": "c2da630d-257e-4602-9bbb-0957e4fba476",
   "metadata": {},
   "outputs": [
    {
     "data": {
      "text/plain": [
       "Prediction(predictions=[7.283284574747086], deployed_model_id='4796531515242577920', model_version_id='1', model_resource_name='projects/234443118908/locations/us-central1/models/8830498940064366592', explanations=None)"
      ]
     },
     "execution_count": 12,
     "metadata": {},
     "output_type": "execute_result"
    }
   ],
   "source": [
    "display(endpoint.predict(instances=[[1.0,15.0,1.0,39.0]]))\n",
    "endpoint_id = endpoint.resource_name[-19:]\n",
    "display(endpoint_id)"
   ]
  },
  {
   "cell_type": "code",
   "execution_count": 14,
   "id": "40867f87-f467-4cdd-82e5-3c2fe82b0f32",
   "metadata": {},
   "outputs": [
    {
     "name": "stdout",
     "output_type": "stream",
     "text": [
      "Using endpoint [https://us-central1-prediction-aiplatform.googleapis.com/]\n",
      "[7.283284574747086, 7.462946087121964]\n"
     ]
    }
   ],
   "source": [
    "import json\n",
    "\n",
    "payload = {'instances': [[1.0,15.0,1.0,39.0], [1.0,25.0,1.0,39.0]]}\n",
    "\n",
    "# Parse JSON\n",
    "with open('request.json', 'w') as outfile:\n",
    "    json.dump(payload, outfile)\n",
    "\n",
    "!gcloud ai endpoints predict $endpoint_id \\\n",
    "  --region=$regionn \\\n",
    "  --json-request=request.json"
   ]
  },
  {
   "cell_type": "code",
   "execution_count": 15,
   "id": "224af345-6dbd-4bc5-a2cc-b260266c1e19",
   "metadata": {},
   "outputs": [
    {
     "name": "stdout",
     "output_type": "stream",
     "text": [
      "Model deployment time:  819.6511216163635\n"
     ]
    }
   ],
   "source": [
    "print('Model deployment time: ', time.time() - deployment_time_start)"
   ]
  }
 ],
 "metadata": {
  "environment": {
   "kernel": "python3",
   "name": "common-cu110.m98",
   "type": "gcloud",
   "uri": "gcr.io/deeplearning-platform-release/base-cu110:m98"
  },
  "kernelspec": {
   "display_name": "Python 3",
   "language": "python",
   "name": "python3"
  },
  "language_info": {
   "codemirror_mode": {
    "name": "ipython",
    "version": 3
   },
   "file_extension": ".py",
   "mimetype": "text/x-python",
   "name": "python",
   "nbconvert_exporter": "python",
   "pygments_lexer": "ipython3",
   "version": "3.7.12"
  }
 },
 "nbformat": 4,
 "nbformat_minor": 5
}
