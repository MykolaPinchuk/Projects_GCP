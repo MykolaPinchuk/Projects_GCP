{
 "cells": [
  {
   "cell_type": "markdown",
   "id": "57e47865-9ec5-4dc8-a89c-181746e2a195",
   "metadata": {},
   "source": [
    "### This notebook builds and deploys simple XGB model to predict baby weight\n",
    "\n",
    "### Outline:\n",
    "1. Ingest data using BigQuery API.\n",
    "2. Clean the data.\n",
    "3. Build model.\n",
    "4. Deploy it"
   ]
  },
  {
   "cell_type": "code",
   "execution_count": 1,
   "id": "4250abab-007a-4714-99d8-0ca5c54cc0ab",
   "metadata": {},
   "outputs": [],
   "source": [
    "notebook_run_id = 5\n",
    "# notebook_run_id is a digit, creating and deploying a new model every time this notebook is run. increment it by 1.\n",
    "project_name = 'My First Project'\n",
    "project_id = 'quantum-keep-360100'\n",
    "regionn = 'us-central1'\n",
    "\n",
    "ml_project_name = 'natality'\n",
    "model_name = 'XGB'"
   ]
  },
  {
   "cell_type": "code",
   "execution_count": 2,
   "id": "0a3d044d-2da6-4c35-b508-bbd4dbeb8572",
   "metadata": {},
   "outputs": [],
   "source": [
    "import pandas as pd\n",
    "from xgboost import XGBRegressor\n",
    "import numpy as np\n",
    "import time\n",
    "import pickle\n",
    "import os\n",
    "\n",
    "from sklearn.linear_model import LinearRegression\n",
    "from sklearn.model_selection import train_test_split\n",
    "from sklearn.metrics import mean_squared_error\n",
    "from sklearn.utils import shuffle\n",
    "from google.cloud import bigquery, storage\n",
    "\n",
    "# xgb.__version__\n",
    "os.chdir('/home/jupyter/projects_gcp')"
   ]
  },
  {
   "cell_type": "code",
   "execution_count": 3,
   "id": "2c3f28d5-c3d5-4764-8fb4-26f8f244fe42",
   "metadata": {},
   "outputs": [
    {
     "data": {
      "text/plain": [
       "(10000, 5)"
      ]
     },
     "metadata": {},
     "output_type": "display_data"
    },
    {
     "data": {
      "text/html": [
       "<div>\n",
       "<style scoped>\n",
       "    .dataframe tbody tr th:only-of-type {\n",
       "        vertical-align: middle;\n",
       "    }\n",
       "\n",
       "    .dataframe tbody tr th {\n",
       "        vertical-align: top;\n",
       "    }\n",
       "\n",
       "    .dataframe thead th {\n",
       "        text-align: right;\n",
       "    }\n",
       "</style>\n",
       "<table border=\"1\" class=\"dataframe\">\n",
       "  <thead>\n",
       "    <tr style=\"text-align: right;\">\n",
       "      <th></th>\n",
       "      <th>weight_pounds</th>\n",
       "      <th>is_male</th>\n",
       "      <th>mother_age</th>\n",
       "      <th>plurality</th>\n",
       "      <th>gestation_weeks</th>\n",
       "    </tr>\n",
       "  </thead>\n",
       "  <tbody>\n",
       "    <tr>\n",
       "      <th>0</th>\n",
       "      <td>9.312326</td>\n",
       "      <td>False</td>\n",
       "      <td>28</td>\n",
       "      <td>1</td>\n",
       "      <td>40.0</td>\n",
       "    </tr>\n",
       "    <tr>\n",
       "      <th>1</th>\n",
       "      <td>7.749249</td>\n",
       "      <td>True</td>\n",
       "      <td>30</td>\n",
       "      <td>1</td>\n",
       "      <td>40.0</td>\n",
       "    </tr>\n",
       "    <tr>\n",
       "      <th>2</th>\n",
       "      <td>7.394304</td>\n",
       "      <td>True</td>\n",
       "      <td>27</td>\n",
       "      <td>1</td>\n",
       "      <td>39.0</td>\n",
       "    </tr>\n",
       "    <tr>\n",
       "      <th>3</th>\n",
       "      <td>6.750554</td>\n",
       "      <td>False</td>\n",
       "      <td>40</td>\n",
       "      <td>1</td>\n",
       "      <td>41.0</td>\n",
       "    </tr>\n",
       "    <tr>\n",
       "      <th>4</th>\n",
       "      <td>8.377566</td>\n",
       "      <td>True</td>\n",
       "      <td>24</td>\n",
       "      <td>1</td>\n",
       "      <td>38.0</td>\n",
       "    </tr>\n",
       "  </tbody>\n",
       "</table>\n",
       "</div>"
      ],
      "text/plain": [
       "   weight_pounds  is_male  mother_age  plurality  gestation_weeks\n",
       "0       9.312326    False          28          1             40.0\n",
       "1       7.749249     True          30          1             40.0\n",
       "2       7.394304     True          27          1             39.0\n",
       "3       6.750554    False          40          1             41.0\n",
       "4       8.377566     True          24          1             38.0"
      ]
     },
     "metadata": {},
     "output_type": "display_data"
    }
   ],
   "source": [
    "time0 = time.time()\n",
    "\n",
    "query=\"\"\"\n",
    "SELECT\n",
    "  weight_pounds,\n",
    "  is_male,\n",
    "  mother_age,\n",
    "  plurality,\n",
    "  gestation_weeks\n",
    "FROM\n",
    "  publicdata.samples.natality\n",
    "WHERE year > 2000\n",
    "LIMIT 10000\n",
    "\"\"\"\n",
    "df = bigquery.Client().query(query).to_dataframe()\n",
    "display(df.shape, df.head())"
   ]
  },
  {
   "cell_type": "code",
   "execution_count": 4,
   "id": "74770d50-b9e7-472b-98aa-8198e24552f7",
   "metadata": {},
   "outputs": [
    {
     "data": {
      "text/plain": [
       "(7442, 4)"
      ]
     },
     "metadata": {},
     "output_type": "display_data"
    },
    {
     "data": {
      "text/html": [
       "<div>\n",
       "<style scoped>\n",
       "    .dataframe tbody tr th:only-of-type {\n",
       "        vertical-align: middle;\n",
       "    }\n",
       "\n",
       "    .dataframe tbody tr th {\n",
       "        vertical-align: top;\n",
       "    }\n",
       "\n",
       "    .dataframe thead th {\n",
       "        text-align: right;\n",
       "    }\n",
       "</style>\n",
       "<table border=\"1\" class=\"dataframe\">\n",
       "  <thead>\n",
       "    <tr style=\"text-align: right;\">\n",
       "      <th></th>\n",
       "      <th>is_male</th>\n",
       "      <th>mother_age</th>\n",
       "      <th>plurality</th>\n",
       "      <th>gestation_weeks</th>\n",
       "    </tr>\n",
       "  </thead>\n",
       "  <tbody>\n",
       "    <tr>\n",
       "      <th>255</th>\n",
       "      <td>1</td>\n",
       "      <td>29</td>\n",
       "      <td>1</td>\n",
       "      <td>41.0</td>\n",
       "    </tr>\n",
       "    <tr>\n",
       "      <th>1101</th>\n",
       "      <td>0</td>\n",
       "      <td>29</td>\n",
       "      <td>1</td>\n",
       "      <td>44.0</td>\n",
       "    </tr>\n",
       "    <tr>\n",
       "      <th>4541</th>\n",
       "      <td>1</td>\n",
       "      <td>24</td>\n",
       "      <td>1</td>\n",
       "      <td>41.0</td>\n",
       "    </tr>\n",
       "    <tr>\n",
       "      <th>9711</th>\n",
       "      <td>0</td>\n",
       "      <td>37</td>\n",
       "      <td>1</td>\n",
       "      <td>39.0</td>\n",
       "    </tr>\n",
       "    <tr>\n",
       "      <th>6541</th>\n",
       "      <td>0</td>\n",
       "      <td>22</td>\n",
       "      <td>1</td>\n",
       "      <td>42.0</td>\n",
       "    </tr>\n",
       "  </tbody>\n",
       "</table>\n",
       "</div>"
      ],
      "text/plain": [
       "      is_male  mother_age  plurality  gestation_weeks\n",
       "255         1          29          1             41.0\n",
       "1101        0          29          1             44.0\n",
       "4541        1          24          1             41.0\n",
       "9711        0          37          1             39.0\n",
       "6541        0          22          1             42.0"
      ]
     },
     "metadata": {},
     "output_type": "display_data"
    },
    {
     "data": {
      "text/plain": [
       "(2481, 4)"
      ]
     },
     "metadata": {},
     "output_type": "display_data"
    },
    {
     "data": {
      "text/plain": [
       "(7442,)"
      ]
     },
     "metadata": {},
     "output_type": "display_data"
    }
   ],
   "source": [
    "df['is_male'] = df['is_male'].astype(int)\n",
    "df = df.dropna()\n",
    "df = shuffle(df, random_state=2)\n",
    "\n",
    "labels = df['weight_pounds']\n",
    "data = df.drop(columns=['weight_pounds'])\n",
    "x,y = data,labels\n",
    "X_train, X_test, y_train, y_test = train_test_split(x,y)\n",
    "\n",
    "display(X_train.shape, X_train.head(), X_test.shape, y_train.shape)"
   ]
  },
  {
   "cell_type": "code",
   "execution_count": 5,
   "id": "2bbb9585-dcee-4754-8f2d-8c3ee25cccf6",
   "metadata": {},
   "outputs": [
    {
     "name": "stdout",
     "output_type": "stream",
     "text": [
      "0.8188176155090332\n"
     ]
    }
   ],
   "source": [
    "time1 = time.time()\n",
    "model = XGBRegressor(tree_method = 'gpu_hist')\n",
    "\n",
    "model.fit(X_train, y_train)\n",
    "model_copied = model\n",
    "\n",
    "print(time.time()-time1)"
   ]
  },
  {
   "cell_type": "code",
   "execution_count": 6,
   "id": "e25267dc-6113-46ab-bf22-9e640528e9e9",
   "metadata": {},
   "outputs": [
    {
     "name": "stdout",
     "output_type": "stream",
     "text": [
      "Predicted weight:  6.7420874\n",
      "Actual weight:  6.4374980503999994\n",
      "\n",
      "Predicted weight:  4.6024985\n",
      "Actual weight:  4.3761759007\n",
      "\n",
      "[7.6223116]\n",
      "train rmse:  0.9466755632239385\n",
      "test rmse:  1.0834672087570911\n"
     ]
    }
   ],
   "source": [
    "y_pred = model.predict(X_test)\n",
    "\n",
    "for i in range(2):\n",
    "    print('Predicted weight: ', y_pred[i])\n",
    "    print('Actual weight: ', y_test.iloc[i])\n",
    "    print()\n",
    "    \n",
    "print(model.predict(pd.DataFrame([[1.0,15.0,1.0,39.0]], columns = X_train.columns)))\n",
    "print('train rmse: ', np.sqrt(mean_squared_error(y_train, model.predict(X_train))))\n",
    "print('test rmse: ', np.sqrt(mean_squared_error(y_test, model.predict(X_test))))"
   ]
  },
  {
   "cell_type": "code",
   "execution_count": 7,
   "id": "b5efffe1-52cf-4e55-ae12-176248d6e17a",
   "metadata": {},
   "outputs": [],
   "source": [
    "# change tree_method w/o gpu\n",
    "\n"
   ]
  },
  {
   "cell_type": "markdown",
   "id": "78ca5275-62b6-481d-8b30-3efc4b8ddc05",
   "metadata": {},
   "source": [
    "#### 4. Deployment"
   ]
  },
  {
   "cell_type": "markdown",
   "id": "ef168011-1d11-4461-8f17-2ab677497af2",
   "metadata": {},
   "source": [
    "Deploying xgb may be more difficult then deploying sklearn models. I will try reusing prod_ols code. \n",
    "If that fails, may try playing with formats to save the model in and then use that clunky DMatrix way of xgb.\n",
    "\n",
    "Some sources:\n",
    "https://supertype.ai/notes/deploying-machine-learning-models-with-vertex-ai-on-google-cloud-platform/\n",
    "\n",
    "https://cloud.google.com/vertex-ai/docs/model-registry/import-model\n",
    "\n",
    "https://cloud.google.com/vertex-ai/docs/training/exporting-model-artifacts"
   ]
  },
  {
   "cell_type": "code",
   "execution_count": 8,
   "id": "65c0cd44-19f3-405a-8a35-4b7f1a2756cc",
   "metadata": {},
   "outputs": [],
   "source": [
    "deployment_time_start = time.time()\n",
    "\n",
    "model_path = os.getcwd()+'/natality/artifacts/model_xgb/'\n",
    "\n",
    "# Save model artifact to local filesystem (doesn't persist)\n",
    "# artifact_filename = 'model.pkl'\n",
    "# with open(model_path+artifact_filename, 'wb') as model_file:\n",
    "#   pickle.dump(model, model_file)"
   ]
  },
  {
   "cell_type": "code",
   "execution_count": 9,
   "id": "7242be1e-5e65-4e81-a7c1-a0e98449f43f",
   "metadata": {},
   "outputs": [],
   "source": [
    "# alternatively, try .bst\n",
    "\n",
    "artifact_filename = 'model.bst'\n",
    "local_path = artifact_filename\n",
    "model.save_model(model_path+local_path)"
   ]
  },
  {
   "cell_type": "code",
   "execution_count": 10,
   "id": "627475ec-a7dc-43ca-9232-39d243dad2be",
   "metadata": {},
   "outputs": [],
   "source": [
    "# Upload model artifact to Cloud Storage\n",
    "# Change the model directory to your GCS bucket URI\n",
    "model_bucket = 'gs://pmykola-projectsgcp-artifacts/natality-xgb'\n",
    "storage_path = os.path.join(model_bucket, artifact_filename)\n",
    "blob = storage.blob.Blob.from_string(storage_path, client=storage.Client(project=project_id))\n",
    "# previously it was 'project_id'\n",
    "blob.upload_from_filename(model_path+artifact_filename)"
   ]
  },
  {
   "cell_type": "code",
   "execution_count": 11,
   "id": "f93d825b-b5d7-4788-b360-5e5d2c9547c4",
   "metadata": {},
   "outputs": [
    {
     "name": "stdout",
     "output_type": "stream",
     "text": [
      "Creating Model\n",
      "Create Model backing LRO: projects/234443118908/locations/us-central1/models/4798651373660930048/operations/3086515300229709824\n",
      "Model created. Resource name: projects/234443118908/locations/us-central1/models/4798651373660930048@1\n",
      "To use this Model in another session:\n",
      "model = aiplatform.Model('projects/234443118908/locations/us-central1/models/4798651373660930048@1')\n"
     ]
    }
   ],
   "source": [
    "from google.cloud import aiplatform\n",
    "\n",
    "# Use this line so we do not need to explicitly specify the project number and region whenever \n",
    "# we use AI Platform (Vertex AI) services\n",
    "aiplatform.init(project=project_id, location=regionn)\n",
    "\n",
    "# Importing model artifacts\n",
    "model = aiplatform.Model.upload(display_name = ml_project_name+model_name+str(notebook_run_id),\n",
    "    description = ml_project_name+model_name+str(notebook_run_id),\n",
    "    artifact_uri = model_bucket,\n",
    "    serving_container_image_uri = 'us-docker.pkg.dev/vertex-ai/prediction/xgboost-cpu.1-6:latest'\n",
    ")"
   ]
  },
  {
   "cell_type": "code",
   "execution_count": 12,
   "id": "faa54689-71ec-4608-a344-e4e6971bd6f6",
   "metadata": {},
   "outputs": [
    {
     "name": "stdout",
     "output_type": "stream",
     "text": [
      "Creating Endpoint\n",
      "Create Endpoint backing LRO: projects/234443118908/locations/us-central1/endpoints/8902354223962783744/operations/5831459273112027136\n",
      "Endpoint created. Resource name: projects/234443118908/locations/us-central1/endpoints/8902354223962783744\n",
      "To use this Endpoint in another session:\n",
      "endpoint = aiplatform.Endpoint('projects/234443118908/locations/us-central1/endpoints/8902354223962783744')\n"
     ]
    }
   ],
   "source": [
    "# optional code to create an endpoint\n",
    "endpoint = aiplatform.Endpoint.create(display_name = ml_project_name+model_name+str(notebook_run_id), \n",
    "                                      project = project_id, \n",
    "                                      location = regionn)\n",
    "endpoint_id = endpoint.resource_name[-19:0]"
   ]
  },
  {
   "cell_type": "code",
   "execution_count": 13,
   "id": "0c495bed-ac15-4603-9b4e-29d8417043e3",
   "metadata": {},
   "outputs": [
    {
     "name": "stdout",
     "output_type": "stream",
     "text": [
      "Deploying model to Endpoint : projects/234443118908/locations/us-central1/endpoints/8902354223962783744\n",
      "Deploy Endpoint model backing LRO: projects/234443118908/locations/us-central1/endpoints/8902354223962783744/operations/7146510364304211968\n",
      "Endpoint model deployed. Resource name: projects/234443118908/locations/us-central1/endpoints/8902354223962783744\n"
     ]
    },
    {
     "data": {
      "text/plain": [
       "<google.cloud.aiplatform.models.Endpoint object at 0x7fbced9dfe50> \n",
       "resource name: projects/234443118908/locations/us-central1/endpoints/8902354223962783744"
      ]
     },
     "execution_count": 13,
     "metadata": {},
     "output_type": "execute_result"
    }
   ],
   "source": [
    "# if you do not specify the endpoint parameter, a new endpoint will be created\n",
    "# this step is low. On a weak machine it runs for 3-6 minutes.\n",
    "# if the VM runs more jobs or the model is complex, it may be even longer.\n",
    "model.deploy(endpoint = endpoint,\n",
    "             machine_type = 'n1-standard-2')"
   ]
  },
  {
   "cell_type": "code",
   "execution_count": 14,
   "id": "3c77eb39-08ab-4271-887d-49057c7c49ff",
   "metadata": {},
   "outputs": [
    {
     "data": {
      "text/plain": [
       "Prediction(predictions=[7.622311592102051], deployed_model_id='7127848009848586240', model_version_id='1', model_resource_name='projects/234443118908/locations/us-central1/models/4798651373660930048', explanations=None)"
      ]
     },
     "metadata": {},
     "output_type": "display_data"
    },
    {
     "data": {
      "text/plain": [
       "'8902354223962783744'"
      ]
     },
     "metadata": {},
     "output_type": "display_data"
    }
   ],
   "source": [
    "display(endpoint.predict(instances=[[1.0,15.0,1.0,39.0]]))\n",
    "endpoint_id = endpoint.resource_name[-19:]\n",
    "display(endpoint_id)"
   ]
  },
  {
   "cell_type": "code",
   "execution_count": 15,
   "id": "4ea7b4c0-59a6-4806-9c2c-a7d2f3ede797",
   "metadata": {},
   "outputs": [],
   "source": [
    "# at this step whenever i use xgb model in .pkl format I always get an error \n",
    "# FailedPrecondition: 400 \"Prediction failed: Exception during xgboost prediction: Not supported type for data.<class 'xgboost.core.DMatrix'>\""
   ]
  },
  {
   "cell_type": "code",
   "execution_count": 16,
   "id": "94e12e92-bbf1-40d5-b05e-0d4595d0ac5f",
   "metadata": {},
   "outputs": [
    {
     "name": "stdout",
     "output_type": "stream",
     "text": [
      "Using endpoint [https://us-central1-prediction-aiplatform.googleapis.com/]\n",
      "[7.622311592102051, 7.485459804534912]\n"
     ]
    }
   ],
   "source": [
    "import json\n",
    "\n",
    "payload = {'instances': [[1.0,15.0,1.0,39.0], [1.0,25.0,1.0,39.0]]}\n",
    "\n",
    "# Parse JSON\n",
    "with open('request.json', 'w') as outfile:\n",
    "    json.dump(payload, outfile)\n",
    "\n",
    "!gcloud ai endpoints predict $endpoint_id \\\n",
    "  --region=$regionn \\\n",
    "  --json-request=request.json"
   ]
  },
  {
   "cell_type": "code",
   "execution_count": 17,
   "id": "618641c2-c69b-4768-9d39-6581e383a6bb",
   "metadata": {},
   "outputs": [
    {
     "name": "stdout",
     "output_type": "stream",
     "text": [
      "Model deployment time:  410.537056684494\n"
     ]
    }
   ],
   "source": [
    "print('Model deployment time: ', time.time() - deployment_time_start)"
   ]
  }
 ],
 "metadata": {
  "environment": {
   "kernel": "python3",
   "name": "common-cu110.m98",
   "type": "gcloud",
   "uri": "gcr.io/deeplearning-platform-release/base-cu110:m98"
  },
  "kernelspec": {
   "display_name": "Python 3",
   "language": "python",
   "name": "python3"
  },
  "language_info": {
   "codemirror_mode": {
    "name": "ipython",
    "version": 3
   },
   "file_extension": ".py",
   "mimetype": "text/x-python",
   "name": "python",
   "nbconvert_exporter": "python",
   "pygments_lexer": "ipython3",
   "version": "3.7.12"
  }
 },
 "nbformat": 4,
 "nbformat_minor": 5
}
