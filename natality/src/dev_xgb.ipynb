{
 "cells": [
  {
   "cell_type": "markdown",
   "id": "b79cac7b-b44a-4623-9a88-5cfc039127b3",
   "metadata": {},
   "source": [
    "### This Dev notebook builds simple XGB model to predict baby weight\n",
    "\n",
    "### Outline:\n",
    "1. Ingest data using BigQuery API.\n",
    "2. Clean the data.\n",
    "3. Build model."
   ]
  },
  {
   "cell_type": "code",
   "execution_count": 1,
   "id": "4b3dc9f8-2dfb-45ae-af08-aaa83b051eed",
   "metadata": {},
   "outputs": [],
   "source": [
    "project_name = 'My First Project'\n",
    "project_id = 'quantum-keep-360100'\n",
    "regionn = 'us-central1'"
   ]
  },
  {
   "cell_type": "code",
   "execution_count": 2,
   "id": "d1fe9ef4-1add-4a74-b94a-cdad0456211e",
   "metadata": {},
   "outputs": [],
   "source": [
    "import pandas as pd\n",
    "from xgboost import XGBRegressor\n",
    "import numpy as np\n",
    "import time\n",
    "import pickle\n",
    "import os\n",
    "\n",
    "from sklearn.linear_model import LinearRegression\n",
    "from sklearn.model_selection import train_test_split\n",
    "from sklearn.metrics import mean_squared_error\n",
    "from sklearn.utils import shuffle\n",
    "from google.cloud import bigquery, storage\n",
    "\n",
    "# xgb.__version__\n",
    "os.chdir('/home/jupyter/projects_gcp')"
   ]
  },
  {
   "cell_type": "code",
   "execution_count": 3,
   "id": "c1f6ac27",
   "metadata": {},
   "outputs": [],
   "source": [
    "import pandas as pd\n",
    "import xgboost as xgb\n",
    "import numpy as np\n",
    "import time\n",
    "import pickle\n",
    "import os\n",
    "\n",
    "from sklearn.linear_model import LinearRegression\n",
    "from sklearn.model_selection import train_test_split\n",
    "from sklearn.metrics import mean_squared_error\n",
    "from sklearn.utils import shuffle\n",
    "from google.cloud import bigquery, storage\n",
    "\n",
    "# xgb.__version__\n",
    "os.chdir('/home/jupyter/projects_gcp')"
   ]
  },
  {
   "cell_type": "code",
   "execution_count": 4,
   "id": "8aa2455b-f13e-486e-b050-79b1b37e85d6",
   "metadata": {},
   "outputs": [
    {
     "data": {
      "text/plain": [
       "(10000, 5)"
      ]
     },
     "metadata": {},
     "output_type": "display_data"
    },
    {
     "data": {
      "text/html": [
       "<div>\n",
       "<style scoped>\n",
       "    .dataframe tbody tr th:only-of-type {\n",
       "        vertical-align: middle;\n",
       "    }\n",
       "\n",
       "    .dataframe tbody tr th {\n",
       "        vertical-align: top;\n",
       "    }\n",
       "\n",
       "    .dataframe thead th {\n",
       "        text-align: right;\n",
       "    }\n",
       "</style>\n",
       "<table border=\"1\" class=\"dataframe\">\n",
       "  <thead>\n",
       "    <tr style=\"text-align: right;\">\n",
       "      <th></th>\n",
       "      <th>weight_pounds</th>\n",
       "      <th>is_male</th>\n",
       "      <th>mother_age</th>\n",
       "      <th>plurality</th>\n",
       "      <th>gestation_weeks</th>\n",
       "    </tr>\n",
       "  </thead>\n",
       "  <tbody>\n",
       "    <tr>\n",
       "      <th>0</th>\n",
       "      <td>9.312326</td>\n",
       "      <td>False</td>\n",
       "      <td>28</td>\n",
       "      <td>1</td>\n",
       "      <td>40.0</td>\n",
       "    </tr>\n",
       "    <tr>\n",
       "      <th>1</th>\n",
       "      <td>7.749249</td>\n",
       "      <td>True</td>\n",
       "      <td>30</td>\n",
       "      <td>1</td>\n",
       "      <td>40.0</td>\n",
       "    </tr>\n",
       "    <tr>\n",
       "      <th>2</th>\n",
       "      <td>7.394304</td>\n",
       "      <td>True</td>\n",
       "      <td>27</td>\n",
       "      <td>1</td>\n",
       "      <td>39.0</td>\n",
       "    </tr>\n",
       "    <tr>\n",
       "      <th>3</th>\n",
       "      <td>6.750554</td>\n",
       "      <td>False</td>\n",
       "      <td>40</td>\n",
       "      <td>1</td>\n",
       "      <td>41.0</td>\n",
       "    </tr>\n",
       "    <tr>\n",
       "      <th>4</th>\n",
       "      <td>8.377566</td>\n",
       "      <td>True</td>\n",
       "      <td>24</td>\n",
       "      <td>1</td>\n",
       "      <td>38.0</td>\n",
       "    </tr>\n",
       "  </tbody>\n",
       "</table>\n",
       "</div>"
      ],
      "text/plain": [
       "   weight_pounds  is_male  mother_age  plurality  gestation_weeks\n",
       "0       9.312326    False          28          1             40.0\n",
       "1       7.749249     True          30          1             40.0\n",
       "2       7.394304     True          27          1             39.0\n",
       "3       6.750554    False          40          1             41.0\n",
       "4       8.377566     True          24          1             38.0"
      ]
     },
     "metadata": {},
     "output_type": "display_data"
    }
   ],
   "source": [
    "time0 = time.time()\n",
    "\n",
    "query=\"\"\"\n",
    "SELECT\n",
    "  weight_pounds,\n",
    "  is_male,\n",
    "  mother_age,\n",
    "  plurality,\n",
    "  gestation_weeks\n",
    "FROM\n",
    "  publicdata.samples.natality\n",
    "WHERE year > 2000\n",
    "LIMIT 10000\n",
    "\"\"\"\n",
    "df = bigquery.Client().query(query).to_dataframe()\n",
    "display(df.shape, df.head())"
   ]
  },
  {
   "cell_type": "code",
   "execution_count": 5,
   "id": "5671c438-41e2-4240-b348-dc67472ee53b",
   "metadata": {},
   "outputs": [
    {
     "data": {
      "text/html": [
       "<div>\n",
       "<style scoped>\n",
       "    .dataframe tbody tr th:only-of-type {\n",
       "        vertical-align: middle;\n",
       "    }\n",
       "\n",
       "    .dataframe tbody tr th {\n",
       "        vertical-align: top;\n",
       "    }\n",
       "\n",
       "    .dataframe thead th {\n",
       "        text-align: right;\n",
       "    }\n",
       "</style>\n",
       "<table border=\"1\" class=\"dataframe\">\n",
       "  <thead>\n",
       "    <tr style=\"text-align: right;\">\n",
       "      <th></th>\n",
       "      <th>weight_pounds</th>\n",
       "      <th>mother_age</th>\n",
       "      <th>plurality</th>\n",
       "      <th>gestation_weeks</th>\n",
       "    </tr>\n",
       "  </thead>\n",
       "  <tbody>\n",
       "    <tr>\n",
       "      <th>count</th>\n",
       "      <td>9984.000000</td>\n",
       "      <td>10000.000000</td>\n",
       "      <td>10000.000000</td>\n",
       "      <td>9935.000000</td>\n",
       "    </tr>\n",
       "    <tr>\n",
       "      <th>mean</th>\n",
       "      <td>7.207753</td>\n",
       "      <td>27.394900</td>\n",
       "      <td>1.032900</td>\n",
       "      <td>38.545848</td>\n",
       "    </tr>\n",
       "    <tr>\n",
       "      <th>std</th>\n",
       "      <td>1.325683</td>\n",
       "      <td>6.142551</td>\n",
       "      <td>0.187673</td>\n",
       "      <td>2.561521</td>\n",
       "    </tr>\n",
       "    <tr>\n",
       "      <th>min</th>\n",
       "      <td>0.639341</td>\n",
       "      <td>13.000000</td>\n",
       "      <td>1.000000</td>\n",
       "      <td>17.000000</td>\n",
       "    </tr>\n",
       "    <tr>\n",
       "      <th>25%</th>\n",
       "      <td>6.563162</td>\n",
       "      <td>23.000000</td>\n",
       "      <td>1.000000</td>\n",
       "      <td>38.000000</td>\n",
       "    </tr>\n",
       "    <tr>\n",
       "      <th>50%</th>\n",
       "      <td>7.312733</td>\n",
       "      <td>27.000000</td>\n",
       "      <td>1.000000</td>\n",
       "      <td>39.000000</td>\n",
       "    </tr>\n",
       "    <tr>\n",
       "      <th>75%</th>\n",
       "      <td>8.035849</td>\n",
       "      <td>32.000000</td>\n",
       "      <td>1.000000</td>\n",
       "      <td>40.000000</td>\n",
       "    </tr>\n",
       "    <tr>\n",
       "      <th>max</th>\n",
       "      <td>12.500210</td>\n",
       "      <td>47.000000</td>\n",
       "      <td>4.000000</td>\n",
       "      <td>47.000000</td>\n",
       "    </tr>\n",
       "  </tbody>\n",
       "</table>\n",
       "</div>"
      ],
      "text/plain": [
       "       weight_pounds    mother_age     plurality  gestation_weeks\n",
       "count    9984.000000  10000.000000  10000.000000      9935.000000\n",
       "mean        7.207753     27.394900      1.032900        38.545848\n",
       "std         1.325683      6.142551      0.187673         2.561521\n",
       "min         0.639341     13.000000      1.000000        17.000000\n",
       "25%         6.563162     23.000000      1.000000        38.000000\n",
       "50%         7.312733     27.000000      1.000000        39.000000\n",
       "75%         8.035849     32.000000      1.000000        40.000000\n",
       "max        12.500210     47.000000      4.000000        47.000000"
      ]
     },
     "metadata": {},
     "output_type": "display_data"
    },
    {
     "data": {
      "text/plain": [
       "True     5129\n",
       "False    4871\n",
       "Name: is_male, dtype: int64"
      ]
     },
     "metadata": {},
     "output_type": "display_data"
    }
   ],
   "source": [
    "display(df.describe())\n",
    "display(df.is_male.value_counts())"
   ]
  },
  {
   "cell_type": "code",
   "execution_count": 6,
   "id": "533f22de-4611-4856-bd14-614c6ae3715e",
   "metadata": {},
   "outputs": [
    {
     "data": {
      "text/plain": [
       "(7442, 4)"
      ]
     },
     "metadata": {},
     "output_type": "display_data"
    },
    {
     "data": {
      "text/html": [
       "<div>\n",
       "<style scoped>\n",
       "    .dataframe tbody tr th:only-of-type {\n",
       "        vertical-align: middle;\n",
       "    }\n",
       "\n",
       "    .dataframe tbody tr th {\n",
       "        vertical-align: top;\n",
       "    }\n",
       "\n",
       "    .dataframe thead th {\n",
       "        text-align: right;\n",
       "    }\n",
       "</style>\n",
       "<table border=\"1\" class=\"dataframe\">\n",
       "  <thead>\n",
       "    <tr style=\"text-align: right;\">\n",
       "      <th></th>\n",
       "      <th>is_male</th>\n",
       "      <th>mother_age</th>\n",
       "      <th>plurality</th>\n",
       "      <th>gestation_weeks</th>\n",
       "    </tr>\n",
       "  </thead>\n",
       "  <tbody>\n",
       "    <tr>\n",
       "      <th>3037</th>\n",
       "      <td>1</td>\n",
       "      <td>34</td>\n",
       "      <td>1</td>\n",
       "      <td>34.0</td>\n",
       "    </tr>\n",
       "    <tr>\n",
       "      <th>3383</th>\n",
       "      <td>0</td>\n",
       "      <td>29</td>\n",
       "      <td>1</td>\n",
       "      <td>37.0</td>\n",
       "    </tr>\n",
       "    <tr>\n",
       "      <th>8685</th>\n",
       "      <td>1</td>\n",
       "      <td>30</td>\n",
       "      <td>1</td>\n",
       "      <td>36.0</td>\n",
       "    </tr>\n",
       "    <tr>\n",
       "      <th>3650</th>\n",
       "      <td>0</td>\n",
       "      <td>26</td>\n",
       "      <td>1</td>\n",
       "      <td>40.0</td>\n",
       "    </tr>\n",
       "    <tr>\n",
       "      <th>294</th>\n",
       "      <td>1</td>\n",
       "      <td>31</td>\n",
       "      <td>1</td>\n",
       "      <td>40.0</td>\n",
       "    </tr>\n",
       "  </tbody>\n",
       "</table>\n",
       "</div>"
      ],
      "text/plain": [
       "      is_male  mother_age  plurality  gestation_weeks\n",
       "3037        1          34          1             34.0\n",
       "3383        0          29          1             37.0\n",
       "8685        1          30          1             36.0\n",
       "3650        0          26          1             40.0\n",
       "294         1          31          1             40.0"
      ]
     },
     "metadata": {},
     "output_type": "display_data"
    },
    {
     "data": {
      "text/plain": [
       "(2481, 4)"
      ]
     },
     "metadata": {},
     "output_type": "display_data"
    },
    {
     "data": {
      "text/plain": [
       "(7442,)"
      ]
     },
     "metadata": {},
     "output_type": "display_data"
    }
   ],
   "source": [
    "df['is_male'] = df['is_male'].astype(int)\n",
    "df = df.dropna()\n",
    "df = shuffle(df, random_state=2)\n",
    "\n",
    "labels = df['weight_pounds']\n",
    "data = df.drop(columns=['weight_pounds'])\n",
    "x,y = data,labels\n",
    "X_train, X_test, y_train, y_test = train_test_split(x,y)\n",
    "\n",
    "display(X_train.shape, X_train.head(), X_test.shape, y_train.shape)"
   ]
  },
  {
   "cell_type": "code",
   "execution_count": 7,
   "id": "36b3f76a-8cce-4349-859f-66337eb070cb",
   "metadata": {},
   "outputs": [
    {
     "name": "stdout",
     "output_type": "stream",
     "text": [
      "0.8024663925170898\n"
     ]
    }
   ],
   "source": [
    "time1 = time.time()\n",
    "model = XGBRegressor(tree_method = 'gpu_hist')\n",
    "\n",
    "model.fit(X_train, y_train)\n",
    "model_copied = model\n",
    "\n",
    "print(time.time()-time1)"
   ]
  },
  {
   "cell_type": "code",
   "execution_count": 10,
   "id": "680f191e-619d-48bc-ad1e-70413f585860",
   "metadata": {},
   "outputs": [
    {
     "name": "stdout",
     "output_type": "stream",
     "text": [
      "Predicted weight:  7.53581\n",
      "Actual weight:  5.06181353552\n",
      "\n",
      "Predicted weight:  7.613289\n",
      "Actual weight:  6.4992274837599995\n",
      "\n",
      "Predicted weight:  7.918761\n",
      "Actual weight:  7.936641432\n",
      "\n",
      "Predicted weight:  4.895279\n",
      "Actual weight:  4.87442061282\n",
      "\n",
      "Predicted weight:  7.4103384\n",
      "Actual weight:  8.437090766739999\n",
      "\n",
      "train rmse:  0.9519739646864473\n",
      "test rmse:  1.0780612860897323\n"
     ]
    }
   ],
   "source": [
    "y_pred = model.predict(X_test)\n",
    "\n",
    "for i in range(5):\n",
    "    print('Predicted weight: ', y_pred[i])\n",
    "    print('Actual weight: ', y_test.iloc[i])\n",
    "    print()\n",
    "    \n",
    "print('train rmse: ', np.sqrt(mean_squared_error(y_train, model.predict(X_train))))\n",
    "print('test rmse: ', np.sqrt(mean_squared_error(y_test, model.predict(X_test))))"
   ]
  }
 ],
 "metadata": {
  "environment": {
   "kernel": "python3",
   "name": "common-cu110.m98",
   "type": "gcloud",
   "uri": "gcr.io/deeplearning-platform-release/base-cu110:m98"
  },
  "kernelspec": {
   "display_name": "Python 3",
   "language": "python",
   "name": "python3"
  },
  "language_info": {
   "codemirror_mode": {
    "name": "ipython",
    "version": 3
   },
   "file_extension": ".py",
   "mimetype": "text/x-python",
   "name": "python",
   "nbconvert_exporter": "python",
   "pygments_lexer": "ipython3",
   "version": "3.7.12"
  }
 },
 "nbformat": 4,
 "nbformat_minor": 5
}
