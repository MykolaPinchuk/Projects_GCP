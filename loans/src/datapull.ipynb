{
 "cells": [
  {
   "cell_type": "code",
   "execution_count": 17,
   "id": "387d8f09-8e64-4d8b-8c70-47cdda0b1af2",
   "metadata": {},
   "outputs": [
    {
     "name": "stdout",
     "output_type": "stream",
     "text": [
      "Copying gs://pmykola-projects-data/temp/kaggle.json to file://.kaggle/kaggle.json\n",
      "  Completed files 1/1 | 63.0B/63.0B                                            \n"
     ]
    }
   ],
   "source": [
    "# ! pip install kaggle\n",
    "# cd\n",
    "# !gcloud storage cp gs://pmykola-projects-data/temp/kaggle.json .kaggle"
   ]
  },
  {
   "cell_type": "code",
   "execution_count": 2,
   "id": "68717fda-9c3a-4bd7-a4fa-25d6e5de84d6",
   "metadata": {},
   "outputs": [],
   "source": [
    "# mkdir projects_data"
   ]
  },
  {
   "cell_type": "code",
   "execution_count": 2,
   "id": "43db84e7-563c-4c76-b4a4-74fc404bc236",
   "metadata": {},
   "outputs": [
    {
     "name": "stdout",
     "output_type": "stream",
     "text": [
      "/home/jupyter\n"
     ]
    }
   ],
   "source": [
    "cd"
   ]
  },
  {
   "cell_type": "code",
   "execution_count": 3,
   "id": "9e913422-0265-48e7-82f0-7d642b0aee1c",
   "metadata": {
    "tags": []
   },
   "outputs": [
    {
     "name": "stdout",
     "output_type": "stream",
     "text": [
      "/home/jupyter/projects_data\n"
     ]
    }
   ],
   "source": [
    "cd projects_data"
   ]
  },
  {
   "cell_type": "code",
   "execution_count": 4,
   "id": "3d0c4c68-0a9b-4033-a074-b66d9688647f",
   "metadata": {},
   "outputs": [],
   "source": [
    "mkdir loans"
   ]
  },
  {
   "cell_type": "code",
   "execution_count": 5,
   "id": "08bc5aa2-f0db-4d87-ba81-e506950202ef",
   "metadata": {},
   "outputs": [
    {
     "name": "stdout",
     "output_type": "stream",
     "text": [
      "Warning: Your Kaggle API key is readable by other users on this system! To fix this, you can run 'chmod 600 /home/jupyter/.kaggle/kaggle.json'\n",
      "Downloading lc-800k-sample.zip to /home/jupyter/projects_data\n",
      " 76%|██████████████████████████████▍         | 83.0M/109M [00:00<00:00, 159MB/s]\n",
      "100%|█████████████████████████████████████████| 109M/109M [00:00<00:00, 139MB/s]\n"
     ]
    }
   ],
   "source": [
    "# !kaggle competitions download -c spaceship-titanic\n",
    "!kaggle datasets download -d pmykola/lc-800k-sample"
   ]
  },
  {
   "cell_type": "code",
   "execution_count": 6,
   "id": "98332008-bb1f-426d-9a80-7315030b3191",
   "metadata": {},
   "outputs": [
    {
     "name": "stdout",
     "output_type": "stream",
     "text": [
      "Archive:  lc-800k-sample.zip\n",
      "  inflating: LCLoans_141_800k.pkl    \n"
     ]
    }
   ],
   "source": [
    "!unzip lc-800k-sample.zip"
   ]
  },
  {
   "cell_type": "code",
   "execution_count": 7,
   "id": "56fece97-f53c-4308-ba91-1553111ddcd7",
   "metadata": {},
   "outputs": [],
   "source": [
    "cp LCLoans_141_800k.pkl /home/jupyter/projects_data/loans"
   ]
  }
 ],
 "metadata": {
  "environment": {
   "kernel": "python3",
   "name": "common-cu110.m98",
   "type": "gcloud",
   "uri": "gcr.io/deeplearning-platform-release/base-cu110:m98"
  },
  "kernelspec": {
   "display_name": "Python 3",
   "language": "python",
   "name": "python3"
  },
  "language_info": {
   "codemirror_mode": {
    "name": "ipython",
    "version": 3
   },
   "file_extension": ".py",
   "mimetype": "text/x-python",
   "name": "python",
   "nbconvert_exporter": "python",
   "pygments_lexer": "ipython3",
   "version": "3.7.12"
  }
 },
 "nbformat": 4,
 "nbformat_minor": 5
}
