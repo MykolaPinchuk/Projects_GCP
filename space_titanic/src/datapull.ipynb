{
 "cells": [
  {
   "cell_type": "code",
   "execution_count": 5,
   "id": "387d8f09-8e64-4d8b-8c70-47cdda0b1af2",
   "metadata": {},
   "outputs": [],
   "source": [
    "# ! pip install kaggle\n",
    "# !gcloud storage cp gs://pmykola-projects-data/temp/kaggle.json .kaggle"
   ]
  },
  {
   "cell_type": "code",
   "execution_count": 27,
   "id": "68717fda-9c3a-4bd7-a4fa-25d6e5de84d6",
   "metadata": {},
   "outputs": [
    {
     "name": "stdout",
     "output_type": "stream",
     "text": [
      "mkdir: cannot create directory ‘projects_data’: File exists\n"
     ]
    }
   ],
   "source": [
    "mkdir projects_data"
   ]
  },
  {
   "cell_type": "code",
   "execution_count": 28,
   "id": "9e913422-0265-48e7-82f0-7d642b0aee1c",
   "metadata": {},
   "outputs": [
    {
     "name": "stdout",
     "output_type": "stream",
     "text": [
      "/home/jupyter/projects_data\n"
     ]
    }
   ],
   "source": [
    "cd projects_data"
   ]
  },
  {
   "cell_type": "code",
   "execution_count": 29,
   "id": "3d0c4c68-0a9b-4033-a074-b66d9688647f",
   "metadata": {},
   "outputs": [],
   "source": [
    "mkdir space_titanic"
   ]
  },
  {
   "cell_type": "code",
   "execution_count": 13,
   "id": "08bc5aa2-f0db-4d87-ba81-e506950202ef",
   "metadata": {},
   "outputs": [
    {
     "name": "stdout",
     "output_type": "stream",
     "text": [
      "Warning: Your Kaggle API key is readable by other users on this system! To fix this, you can run 'chmod 600 /home/jupyter/.kaggle/kaggle.json'\n",
      "Downloading titanic.zip to /home/jupyter\n",
      "  0%|                                               | 0.00/34.1k [00:00<?, ?B/s]\n",
      "100%|██████████████████████████████████████| 34.1k/34.1k [00:00<00:00, 29.8MB/s]\n"
     ]
    }
   ],
   "source": [
    "!kaggle competitions download -c spaceship-titanic"
   ]
  },
  {
   "cell_type": "code",
   "execution_count": 33,
   "id": "98332008-bb1f-426d-9a80-7315030b3191",
   "metadata": {},
   "outputs": [
    {
     "name": "stdout",
     "output_type": "stream",
     "text": [
      "Archive:  spaceship-titanic.zip\n",
      "  inflating: sample_submission.csv   \n",
      "  inflating: test.csv                \n",
      "  inflating: train.csv               \n"
     ]
    }
   ],
   "source": [
    "!unzip spaceship-titanic.zip"
   ]
  },
  {
   "cell_type": "code",
   "execution_count": 34,
   "id": "56fece97-f53c-4308-ba91-1553111ddcd7",
   "metadata": {},
   "outputs": [],
   "source": [
    "cp train.csv test.csv sample_submission.csv /home/jupyter/projects_data/space_titanic"
   ]
  }
 ],
 "metadata": {
  "environment": {
   "kernel": "python3",
   "name": "common-cu110.m98",
   "type": "gcloud",
   "uri": "gcr.io/deeplearning-platform-release/base-cu110:m98"
  },
  "kernelspec": {
   "display_name": "Python 3",
   "language": "python",
   "name": "python3"
  },
  "language_info": {
   "codemirror_mode": {
    "name": "ipython",
    "version": 3
   },
   "file_extension": ".py",
   "mimetype": "text/x-python",
   "name": "python",
   "nbconvert_exporter": "python",
   "pygments_lexer": "ipython3",
   "version": "3.7.12"
  }
 },
 "nbformat": 4,
 "nbformat_minor": 5
}
